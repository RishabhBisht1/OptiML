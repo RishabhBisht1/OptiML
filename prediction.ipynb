{
 "cells": [
  {
   "cell_type": "code",
   "execution_count": 2,
   "id": "d421322d",
   "metadata": {},
   "outputs": [],
   "source": [
    "import joblib\n",
    "# Load everything back\n",
    "rf_loaded = joblib.load('rf_model.pkl')\n",
    "le_loaded = joblib.load('label_encoder.pkl')\n",
    "scaler_loaded = joblib.load('scaler.pkl')\n"
   ]
  },
  {
   "cell_type": "code",
   "execution_count": 3,
   "id": "6e298f42",
   "metadata": {},
   "outputs": [
    {
     "name": "stdout",
     "output_type": "stream",
     "text": [
      "Predicted label: 2\n"
     ]
    }
   ],
   "source": [
    "sample = [[10, 3, 40, 18, 5, 2, 1, 0, 8, 29]]\n",
    "sample_scaled = scaler_loaded.transform(sample)\n",
    "\n",
    "pred_encoded = rf_loaded.predict(sample_scaled)[0]\n",
    "pred_label = le_loaded.inverse_transform([pred_encoded])[0]\n",
    "\n",
    "print(\"Predicted label:\", pred_label)\n"
   ]
  }
 ],
 "metadata": {
  "kernelspec": {
   "display_name": "base",
   "language": "python",
   "name": "python3"
  },
  "language_info": {
   "codemirror_mode": {
    "name": "ipython",
    "version": 3
   },
   "file_extension": ".py",
   "mimetype": "text/x-python",
   "name": "python",
   "nbconvert_exporter": "python",
   "pygments_lexer": "ipython3",
   "version": "3.12.4"
  }
 },
 "nbformat": 4,
 "nbformat_minor": 5
}
